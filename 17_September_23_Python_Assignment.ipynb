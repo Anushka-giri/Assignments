{
 "cells": [
  {
   "cell_type": "code",
   "execution_count": null,
   "id": "d26119f9-8baf-4321-9173-cb7e8f674563",
   "metadata": {},
   "outputs": [],
   "source": [
    "########################### for loop ##############################\n"
   ]
  },
  {
   "cell_type": "code",
   "execution_count": 1,
   "id": "b81ed740-f3b4-43e5-bbea-d81ec212aaa8",
   "metadata": {},
   "outputs": [
    {
     "name": "stdout",
     "output_type": "stream",
     "text": [
      "1 2 3 4 5 6 7 8 9 10 "
     ]
    }
   ],
   "source": [
    "# Write a Python program to print numbers from 1 to 10 using a for loop.\n",
    "for i in range(1,11):\n",
    "    print(i,end=' ')"
   ]
  },
  {
   "cell_type": "code",
   "execution_count": null,
   "id": "8bf014b5-adf9-4ff3-8d06-c3e85649c0ff",
   "metadata": {},
   "outputs": [],
   "source": [
    "# Explain the difference between a for loop and a while loop in Python. \n",
    "For loop: ‘for loop‘ is used to iterate over a sequence of items, such as a Python tuple, list, string, or range. \n",
    "           The loop will execute a block of statements for each item in the sequence.\n",
    "while loop: a while loop is used to repeatedly execute a block of statements while a condition is true. \n",
    "           The loop will continue to run as long as the condition remains true."
   ]
  },
  {
   "cell_type": "code",
   "execution_count": 7,
   "id": "197400df-54fc-45b7-a186-5fc2e2a19d1b",
   "metadata": {},
   "outputs": [
    {
     "name": "stdout",
     "output_type": "stream",
     "text": [
      "Sum of numbers from 1 to 100 is 5050\n"
     ]
    }
   ],
   "source": [
    "# Write a Python program to calculate the sum of all numbers from 1 to 100 using a for loop.\n",
    "sum_no=0\n",
    "for i in range(1,101):\n",
    "    sum_no=sum_no+i\n",
    "print(\"Sum of numbers from 1 to 100 is\",sum_no)"
   ]
  },
  {
   "cell_type": "code",
   "execution_count": null,
   "id": "4af794cc-dbac-48da-a819-6d232af3514a",
   "metadata": {},
   "outputs": [],
   "source": [
    "Q) How do you iterate through a list using a for loop in Python?\n",
    "Ans) for iterating through a list we use the following syntax\n",
    "      for i in l:\n",
    "      where l is the list through which we want to iterate"
   ]
  },
  {
   "cell_type": "code",
   "execution_count": 1,
   "id": "d61ed5be-5b7c-4d59-a6f6-a3f8fab1b796",
   "metadata": {},
   "outputs": [
    {
     "name": "stdout",
     "output_type": "stream",
     "text": [
      "Product of all elements in the given list is 120\n"
     ]
    }
   ],
   "source": [
    "# Write a Python program to find the product of all elements in a list using a for loop.\n",
    "l=[1,2,3,4,5]\n",
    "mult=1\n",
    "for i in l:\n",
    "    mult=mult*i\n",
    "print(\"Product of all elements in the given list is\",mult)"
   ]
  },
  {
   "cell_type": "code",
   "execution_count": 14,
   "id": "eb1532e8-f660-4e6d-bb13-bc5e8bed2ad4",
   "metadata": {},
   "outputs": [
    {
     "name": "stdout",
     "output_type": "stream",
     "text": [
      "2\n",
      "4\n",
      "6\n",
      "8\n",
      "10\n",
      "12\n",
      "14\n",
      "16\n",
      "18\n",
      "20\n"
     ]
    }
   ],
   "source": [
    "# Create a Python program that prints all even numbers from 1 to 20 using a for loop.\n",
    "for i in range(1,21):\n",
    "    if i%2==0:\n",
    "        print (i)"
   ]
  },
  {
   "cell_type": "code",
   "execution_count": 6,
   "id": "f80991ed-c354-47da-a5e3-2521b51f334f",
   "metadata": {},
   "outputs": [
    {
     "name": "stdin",
     "output_type": "stream",
     "text": [
      "Enter the number 4\n"
     ]
    },
    {
     "name": "stdout",
     "output_type": "stream",
     "text": [
      "24\n"
     ]
    }
   ],
   "source": [
    "# Write a Python program that calculates the factorial of a number using a for loop\n",
    "n=int(input(\"Enter the number\"))\n",
    "fact=1\n",
    "for i in range(1,n+1):\n",
    "    fact=fact*i\n",
    "print(fact)"
   ]
  },
  {
   "cell_type": "code",
   "execution_count": null,
   "id": "863ac729-ecbf-4447-8778-3e3ef4358500",
   "metadata": {},
   "outputs": [],
   "source": [
    "# How can you iterate through the characters of a string using a for loop in Python?\n",
    "We can iterate through the characters of a string using enumerate function.\n",
    "for i, v in enumerate(string_name): # where string_name is the string entered"
   ]
  },
  {
   "cell_type": "code",
   "execution_count": 16,
   "id": "f235611c-ffaa-43a6-a78a-edfbc0c0d27a",
   "metadata": {},
   "outputs": [
    {
     "name": "stdout",
     "output_type": "stream",
     "text": [
      "Largest number in list is 99\n"
     ]
    }
   ],
   "source": [
    "# Write a Python program to find the largest number in a list using a for loop.\n",
    "l=[1,34,78,23,2,99]\n",
    "max1=l[0]\n",
    "for i in l:\n",
    "    if i>max1:\n",
    "        max1=i\n",
    "print(\"Largest number in list is\",max1)"
   ]
  },
  {
   "cell_type": "code",
   "execution_count": 20,
   "id": "f1320aad-1f11-4f47-a27d-12425d160c41",
   "metadata": {},
   "outputs": [],
   "source": [
    "# Create a Python program that prints the Fibonacci sequence up to a specified limit using a for loop.\n",
    "def fibonacci(n):\n",
    "    if n<=1:\n",
    "        return n\n",
    "    else:\n",
    "        return fibonacci(n-1)+fibonacci(n-2)"
   ]
  },
  {
   "cell_type": "code",
   "execution_count": 31,
   "id": "8005a10b-852d-43b8-a200-6aa530605220",
   "metadata": {},
   "outputs": [
    {
     "data": {
      "text/plain": [
       "13"
      ]
     },
     "execution_count": 31,
     "metadata": {},
     "output_type": "execute_result"
    }
   ],
   "source": [
    "fibonacci(7)"
   ]
  },
  {
   "cell_type": "code",
   "execution_count": 37,
   "id": "6cda5656-bb5b-4890-8a39-1a94c077d7ef",
   "metadata": {},
   "outputs": [
    {
     "name": "stdin",
     "output_type": "stream",
     "text": [
      "Enter the string pwskills\n"
     ]
    },
    {
     "name": "stdout",
     "output_type": "stream",
     "text": [
      "No of vowels in the string is 1\n"
     ]
    }
   ],
   "source": [
    "# Write a Python program to count the number of vowels in a given string using a for loop.\n",
    "vowels=['a','e','i','o','u','A','E','I','O','U']\n",
    "l=[]\n",
    "for i in input(\"Enter the string\"):\n",
    "    if i in vowels:\n",
    "        l.append(i)\n",
    "print(\"No of vowels in the string is\",len(l))"
   ]
  },
  {
   "cell_type": "code",
   "execution_count": 42,
   "id": "8bc63656-a905-4154-9cd4-a8b291452148",
   "metadata": {},
   "outputs": [
    {
     "name": "stdin",
     "output_type": "stream",
     "text": [
      "Enter the number 2\n"
     ]
    },
    {
     "name": "stdout",
     "output_type": "stream",
     "text": [
      "Multiplication table for 2 is\n",
      "2\n",
      "4\n",
      "6\n",
      "8\n",
      "10\n",
      "12\n",
      "14\n",
      "16\n",
      "18\n",
      "20\n"
     ]
    }
   ],
   "source": [
    "# Create a Python program that generates a multiplication table for a given number using a for loop.\n",
    "n=int(input(\"Enter the number\"))\n",
    "mult=1\n",
    "print(\"Multiplication table for\",n,\"is\")\n",
    "for i in range(1,11):\n",
    "    mult=i*n\n",
    "    print(mult)"
   ]
  },
  {
   "cell_type": "code",
   "execution_count": 3,
   "id": "02921320-ee84-4052-a4ac-d915b3dcc4d0",
   "metadata": {},
   "outputs": [
    {
     "name": "stdout",
     "output_type": "stream",
     "text": [
      "Reversed list [3, 4, 9, 78, 6, 1]\n"
     ]
    }
   ],
   "source": [
    "# Write a Python program to reverse a list using a for loop.\n",
    "l=[1,6,78,9,4,3]\n",
    "l1=[]\n",
    "for i in l[::-1]:\n",
    "    l1.append(i)\n",
    "print(\"Reversed list\",l1)"
   ]
  },
  {
   "cell_type": "code",
   "execution_count": 7,
   "id": "4b568cb9-99e1-45bd-9b4d-0f49bef371d3",
   "metadata": {},
   "outputs": [
    {
     "name": "stdout",
     "output_type": "stream",
     "text": [
      "The common elements are [4, 5, 99]\n"
     ]
    }
   ],
   "source": [
    "# Write a Python program to find the common elements between two lists using a for loop.\n",
    "l1=[1,4,5,78,99]\n",
    "l2=[3,56,34,99,4,5]\n",
    "l3=[]\n",
    "for i in l1:\n",
    "    if i in l2:\n",
    "        l3.append(i)\n",
    "print(\"The common elements are\",l3)"
   ]
  },
  {
   "cell_type": "code",
   "execution_count": 19,
   "id": "24be8333-4679-487f-a7ce-4592018a361f",
   "metadata": {},
   "outputs": [
    {
     "name": "stdout",
     "output_type": "stream",
     "text": [
      "key of dictionary name\n",
      "key of dictionary course\n",
      "key of dictionary age\n",
      "value of dictionary Anushka\n",
      "value of dictionary ['Python', 'Sql', 'Machine Learning']\n",
      "value of dictionary 24\n",
      "key and value combination of a dictionary ('name', 'Anushka')\n",
      "key and value combination of a dictionary ('course', ['Python', 'Sql', 'Machine Learning'])\n",
      "key and value combination of a dictionary ('age', 24)\n"
     ]
    }
   ],
   "source": [
    "# Explain how to use a for loop to iterate through the keys and values of a dictionary in Python.\n",
    "dict1={'name':'Anushka','course':['Python','Sql','Machine Learning'],'age':24}\n",
    "for i in dict1.keys(): # for loop to iterate over dictionary keys\n",
    "    print(\"key of dictionary\",i)\n",
    "for i in dict1.values(): # for loop to iterate over dictionary keys\n",
    "    print(\"value of dictionary\",i)\n",
    "for i in dict1.items(): # for loop to iterate over dictionary key and value combination\n",
    "    print(\"key and value combination of a dictionary\",i)"
   ]
  },
  {
   "cell_type": "code",
   "execution_count": 22,
   "id": "9c67dc4b-e373-4dce-a6e5-5cdd391a6c9f",
   "metadata": {},
   "outputs": [
    {
     "name": "stdin",
     "output_type": "stream",
     "text": [
      "Enter first number 24\n",
      "Enter second number 54\n"
     ]
    },
    {
     "name": "stdout",
     "output_type": "stream",
     "text": [
      "GCD is 6\n"
     ]
    }
   ],
   "source": [
    "# Write a Python program to find the GCD (Greatest Common Divisor) of two numbers using a for loop.\n",
    "a=int(input(\"Enter first number\"))\n",
    "b=int(input(\"Enter second number\"))\n",
    "gcd=1\n",
    "for i in range(1,min(a,b)+1):\n",
    "    if a%i==0 and b%i==0:\n",
    "        gcd=i\n",
    "print(\"GCD is\",gcd)"
   ]
  },
  {
   "cell_type": "code",
   "execution_count": 28,
   "id": "60114bb4-7934-4f54-9d43-1bfca1d0df4e",
   "metadata": {},
   "outputs": [
    {
     "name": "stdin",
     "output_type": "stream",
     "text": [
      "Enter string malayalam\n"
     ]
    },
    {
     "name": "stdout",
     "output_type": "stream",
     "text": [
      "The strings are palindrome\n"
     ]
    }
   ],
   "source": [
    "# Create a Python program that checks if a string is a palindrome using a for loop.\n",
    "str1=input(\"Enter string\")\n",
    "str2=\"\"\n",
    "for i in str1:\n",
    "    str2=i+str2\n",
    "if str1==str2:\n",
    "    print(\"The strings are palindrome\")\n",
    "else:\n",
    "    print(\"The strings are not palindrome\")"
   ]
  },
  {
   "cell_type": "code",
   "execution_count": 6,
   "id": "c49157b6-adbc-4e6f-a00c-bdf2ac0d0787",
   "metadata": {},
   "outputs": [
    {
     "name": "stdout",
     "output_type": "stream",
     "text": [
      "List with no duplicates [1, 2, 4, 5, 8]\n"
     ]
    }
   ],
   "source": [
    "# Write a Python program to remove duplicates from a list using a for loop.\n",
    "l=[1,2,2,4,5,5,8]\n",
    "l1=[]\n",
    "for i in l:\n",
    "    if i not in l1:\n",
    "        l1.append(i)\n",
    "print(\"List with no duplicates\",l1)    "
   ]
  },
  {
   "cell_type": "code",
   "execution_count": 14,
   "id": "3313f220-b828-40bd-ae70-7fc60dd476da",
   "metadata": {},
   "outputs": [
    {
     "name": "stdin",
     "output_type": "stream",
     "text": [
      "Enter you string Hi how are you\n"
     ]
    },
    {
     "name": "stdout",
     "output_type": "stream",
     "text": [
      "The number of words in sentence are 11\n"
     ]
    }
   ],
   "source": [
    "# Create a Python program that counts the number of words in a sentence using a for loop.\n",
    "str2=input(\"Enter you string\")\n",
    "count=0\n",
    "for i in str2:\n",
    "    if i not in [\" \"]:\n",
    "        count=count+1\n",
    "print(\"The number of words in sentence are\",count)"
   ]
  },
  {
   "cell_type": "code",
   "execution_count": 15,
   "id": "aa60b948-9cd9-4063-a6d7-0b151d05753d",
   "metadata": {},
   "outputs": [
    {
     "name": "stdout",
     "output_type": "stream",
     "text": [
      "The sum of odd numbers are 625\n"
     ]
    }
   ],
   "source": [
    "# Write a Python program to find the sum of all odd numbers from 1 to 50 using a for loop.\n",
    "sum2=0\n",
    "for i in range(1,51):\n",
    "    if i%2!=0:\n",
    "        sum2=sum2+i\n",
    "print(\"The sum of odd numbers are\", sum2)"
   ]
  },
  {
   "cell_type": "code",
   "execution_count": 21,
   "id": "269800b6-e4c6-4ade-8a66-a0dd1bce16e8",
   "metadata": {},
   "outputs": [
    {
     "name": "stdin",
     "output_type": "stream",
     "text": [
      "Enter the year 2024\n"
     ]
    },
    {
     "name": "stdout",
     "output_type": "stream",
     "text": [
      "The year is leap year\n"
     ]
    }
   ],
   "source": [
    "# Write a Python program that checks if a given year is a leap year using a for loop.\n",
    "year=int(input(\"Enter the year\"))\n",
    "if (year%4==0 and year%100!=0) or (year%400==0):\n",
    "    print(\"The year is leap year\")\n",
    "else:\n",
    "    print(\"The year is not leap year\")"
   ]
  },
  {
   "cell_type": "code",
   "execution_count": 1,
   "id": "65bc687a-4c65-466a-afc3-0aa43fa99830",
   "metadata": {},
   "outputs": [
    {
     "name": "stdin",
     "output_type": "stream",
     "text": [
      "Enter your number 64\n"
     ]
    },
    {
     "name": "stdout",
     "output_type": "stream",
     "text": [
      "The square root of the number is 8\n"
     ]
    }
   ],
   "source": [
    "# Create a Python program that calculates the square root of a number using a for loop.\n",
    "import math\n",
    "a=int(input(\"Enter your number\"))\n",
    "b=int(math.sqrt(a))\n",
    "print(\"The square root of the number is\",b)"
   ]
  },
  {
   "cell_type": "code",
   "execution_count": 3,
   "id": "b6d0f69a-4763-4b39-84e4-da61a9a05c62",
   "metadata": {},
   "outputs": [
    {
     "name": "stdin",
     "output_type": "stream",
     "text": [
      "Enter first number 4\n",
      "Enter second number 7\n"
     ]
    },
    {
     "name": "stdout",
     "output_type": "stream",
     "text": [
      "The LCM of two numbers are 28\n"
     ]
    }
   ],
   "source": [
    "# Write a Python program to find the LCM (Least Common Multiple) of two numbers using a for loop.\n",
    "a=int(input(\"Enter first number\"))\n",
    "b=int(input(\"Enter second number\"))\n",
    "for i in range(max(a,b), a*b+1, max(a,b)):\n",
    "        if i % min(a,b) == 0:\n",
    "            print(\"The LCM of two numbers are\",i)"
   ]
  },
  {
   "cell_type": "code",
   "execution_count": null,
   "id": "feab921f-d107-4421-98f8-cd3db6f8df52",
   "metadata": {},
   "outputs": [],
   "source": [
    "######################### if else ##################################\n"
   ]
  },
  {
   "cell_type": "code",
   "execution_count": 7,
   "id": "b663bc7d-e50f-4a13-a06f-21428def26f9",
   "metadata": {},
   "outputs": [
    {
     "name": "stdin",
     "output_type": "stream",
     "text": [
      "Enter your number -3\n"
     ]
    },
    {
     "name": "stdout",
     "output_type": "stream",
     "text": [
      "The number is negative\n"
     ]
    }
   ],
   "source": [
    "# Write a Python program to check if a number is positive, negative, or zero using an if-else statement.\n",
    "a=int(input(\"Enter your number\"))\n",
    "if a<0:\n",
    "    print(\"The number is negative\")\n",
    "elif a==0:\n",
    "    print(\"The number is zero\")\n",
    "else:\n",
    "    print(\"The number is positive\")"
   ]
  },
  {
   "cell_type": "code",
   "execution_count": 9,
   "id": "e5240bf9-3c3c-49a8-9126-c07da189c4df",
   "metadata": {},
   "outputs": [
    {
     "name": "stdin",
     "output_type": "stream",
     "text": [
      "Enter your number 89\n"
     ]
    },
    {
     "name": "stdout",
     "output_type": "stream",
     "text": [
      "The number is odd\n"
     ]
    }
   ],
   "source": [
    "# Create a Python program that checks if a given number is even or odd using an if-else statement.\n",
    "a=int(input(\"Enter your number\"))\n",
    "if a%2==0:\n",
    "    print(\"The number is even\")\n",
    "else:\n",
    "    print(\"The number is odd\")"
   ]
  },
  {
   "cell_type": "code",
   "execution_count": 15,
   "id": "b7aaf148-e3bd-4a33-bd48-f6104b66bfec",
   "metadata": {},
   "outputs": [
    {
     "name": "stdin",
     "output_type": "stream",
     "text": [
      "Enter your username anu\n"
     ]
    },
    {
     "name": "stdout",
     "output_type": "stream",
     "text": [
      "User exist please enter otp\n"
     ]
    },
    {
     "name": "stdin",
     "output_type": "stream",
     "text": [
      "Enter the otp 56457\n"
     ]
    },
    {
     "name": "stdout",
     "output_type": "stream",
     "text": [
      "User login successfully\n"
     ]
    }
   ],
   "source": [
    "# How can you use nested if-else statements in Python, and provide an example?\n",
    "username_list=['anu','rahul','soni','raj']\n",
    "otp=56457\n",
    "if input(\"Enter your username\") in username_list:\n",
    "    print(\"User exist please enter otp\")\n",
    "    if int(input(\"Enter the otp\"))==otp:             # nested if\n",
    "        print(\"User login successfully\")\n",
    "    else:                                            # nested else  \n",
    "        print(\"otp incorrect, enter correct otp\")\n",
    "else:\n",
    "    print(\"The user does not exist\")"
   ]
  },
  {
   "cell_type": "code",
   "execution_count": 18,
   "id": "4af800c6-d3b7-4341-a7c8-7cc2d6c3178b",
   "metadata": {},
   "outputs": [
    {
     "name": "stdin",
     "output_type": "stream",
     "text": [
      "Enter first number 78\n",
      "Enter second number 3\n",
      "Enter third number 4\n"
     ]
    },
    {
     "name": "stdout",
     "output_type": "stream",
     "text": [
      "78 is largerst\n"
     ]
    }
   ],
   "source": [
    "# Write a Python program to determine the largest of three numbers using if-else.\n",
    "a=int(input(\"Enter first number\"))\n",
    "b=int(input(\"Enter second number\"))\n",
    "c=int(input(\"Enter third number\"))\n",
    "if a>b and a>c:\n",
    "    print(a, \"is largerst\")\n",
    "elif b>a and b>c:\n",
    "    print(b, \"is largest\")\n",
    "else:\n",
    "    print(c,\"is largest\")"
   ]
  },
  {
   "cell_type": "code",
   "execution_count": 4,
   "id": "c4607c87-ab28-488c-917b-3702e55fe6e1",
   "metadata": {},
   "outputs": [
    {
     "name": "stdin",
     "output_type": "stream",
     "text": [
      "Enter number -11\n"
     ]
    },
    {
     "name": "stdout",
     "output_type": "stream",
     "text": [
      "Absolute of the number is 11\n"
     ]
    }
   ],
   "source": [
    "# Write a Python program that calculates the absolute value of a number using if-else.\n",
    "n=int(input(\"Enter number\"))\n",
    "if n<0:\n",
    "    n=(-1)*n\n",
    "    print(\"Absolute of the number is\",n)\n",
    "else:\n",
    "    print(\"Absolute of the number is\",n)"
   ]
  },
  {
   "cell_type": "code",
   "execution_count": 8,
   "id": "86b500c9-f3f4-48f3-add1-a79f570d4cc9",
   "metadata": {},
   "outputs": [
    {
     "name": "stdin",
     "output_type": "stream",
     "text": [
      "Enter character I\n"
     ]
    },
    {
     "name": "stdout",
     "output_type": "stream",
     "text": [
      "The charcter is a vowel\n"
     ]
    }
   ],
   "source": [
    "# Create a Python program that checks if a given character is a vowel or consonant using if-else\n",
    "vowel=['a','e','i','o','u','A','E','I','O','U']\n",
    "char1=input(\"Enter character\")\n",
    "if char1 in vowel:\n",
    "    print(\"The charcter is a vowel\")\n",
    "else:\n",
    "    print(\"The character is consonant\")"
   ]
  },
  {
   "cell_type": "code",
   "execution_count": 11,
   "id": "065d3072-0c3d-4a0d-9658-446066a84207",
   "metadata": {},
   "outputs": [
    {
     "name": "stdin",
     "output_type": "stream",
     "text": [
      "Enter age 13\n"
     ]
    },
    {
     "name": "stdout",
     "output_type": "stream",
     "text": [
      "Person is not eligible to vote\n"
     ]
    }
   ],
   "source": [
    "# Write a Python program to determine if a user is eligible to vote based on their age using if-else.\n",
    "age=int(input(\"Enter age\"))\n",
    "if age<18:\n",
    "    print(\"Person is not eligible to vote\")\n",
    "else:\n",
    "    print(\"Person is eligible to vote\")"
   ]
  },
  {
   "cell_type": "code",
   "execution_count": 1,
   "id": "28bcdab9-1a99-47e6-a4e3-e53d2462cc3f",
   "metadata": {},
   "outputs": [
    {
     "name": "stdin",
     "output_type": "stream",
     "text": [
      "Enter purchase amount 1200\n"
     ]
    },
    {
     "name": "stdout",
     "output_type": "stream",
     "text": [
      "Give a discount of 25%\n"
     ]
    }
   ],
   "source": [
    "# Create a Python program that calculates the discount amount based on the purchase amount using if-else.\n",
    "purchase_amount=int(input(\"Enter purchase amount\"))\n",
    "if 0<=purchase_amount<300:\n",
    "    print(\"No discount\")\n",
    "elif 300<=purchase_amount<=500:\n",
    "    print(\"Give a discount of 10%\")\n",
    "elif 500<purchase_amount<=1000:\n",
    "    print(\"Give a discount of 20%\")\n",
    "elif 1000<purchase_amount<=2000:\n",
    "    print(\"Give a discount of 25%\")\n",
    "else:\n",
    "    print(\"Give a discount of 30%\")"
   ]
  },
  {
   "cell_type": "code",
   "execution_count": 3,
   "id": "f9c97a84-5340-4e70-a11d-1e1bc85c5447",
   "metadata": {},
   "outputs": [
    {
     "name": "stdin",
     "output_type": "stream",
     "text": [
      "Enter your number 245\n"
     ]
    },
    {
     "name": "stdout",
     "output_type": "stream",
     "text": [
      "The number lies within the range\n"
     ]
    }
   ],
   "source": [
    "# Write a Python program to check if a number is within a specified range using if-else.\n",
    "n=int(input(\"Enter your number\"))\n",
    "if 0<=n<=1000:\n",
    "    print(\"The number lies within the range\")\n",
    "else:\n",
    "    print(\"The number does not lie in the range\")"
   ]
  },
  {
   "cell_type": "code",
   "execution_count": 12,
   "id": "cfe7d0dc-41e3-46d7-9154-b8caf02c73e8",
   "metadata": {},
   "outputs": [
    {
     "name": "stdin",
     "output_type": "stream",
     "text": [
      "Enter your score 99.5\n"
     ]
    },
    {
     "name": "stdout",
     "output_type": "stream",
     "text": [
      "The grade is A\n"
     ]
    }
   ],
   "source": [
    "# Create a Python program that determines the grade of a student based on their score using if-else.\n",
    "score=float(input(\"Enter your score\"))\n",
    "if 90<=score<=100:\n",
    "    print(\"The grade is A\")\n",
    "elif 80<=score<90:\n",
    "    print(\"The grade is B\")\n",
    "elif 70<=score<80:\n",
    "    print(\"The grade is C\")\n",
    "elif 50<=score<70:\n",
    "    print(\"The grade is D\")\n",
    "elif 33<=score<50:\n",
    "    print(\"The grade is E\")\n",
    "elif score<33:\n",
    "    print(\"The grade is F\")"
   ]
  },
  {
   "cell_type": "code",
   "execution_count": 25,
   "id": "e3186335-5da7-48ef-a1e4-2e9373df5efb",
   "metadata": {},
   "outputs": [
    {
     "name": "stdin",
     "output_type": "stream",
     "text": [
      "Enter your string 898\n"
     ]
    },
    {
     "name": "stdout",
     "output_type": "stream",
     "text": [
      "The string is not empty and the value is: 898\n"
     ]
    }
   ],
   "source": [
    "# Write a Python program to check if a string is empty or not using if-else.\n",
    "string1=input(\"Enter your string\")\n",
    "if len(string1)==0:\n",
    "    print(\"The string is empty\")\n",
    "else:\n",
    "    print(\"The string is not empty and the value is:\",string1)"
   ]
  },
  {
   "cell_type": "code",
   "execution_count": 1,
   "id": "0833d475-c343-4160-9c2e-348c689b826e",
   "metadata": {},
   "outputs": [
    {
     "name": "stdin",
     "output_type": "stream",
     "text": [
      "Enter first side 3\n",
      "Enter second side 3\n",
      "Enter third side 3\n"
     ]
    },
    {
     "name": "stdout",
     "output_type": "stream",
     "text": [
      "The triangle is equilateral triangle\n"
     ]
    }
   ],
   "source": [
    "# Create a Python program that identifies the type of a triangle (e.g., equilateral, isosceles, or scalene) based on input values using if-else.\n",
    "a=input(\"Enter first side\")\n",
    "b=input(\"Enter second side\")\n",
    "c=input(\"Enter third side\")\n",
    "if a==b==c:\n",
    "    print(\"The triangle is equilateral triangle\")\n",
    "elif a==b or a==c or b==c:\n",
    "    print(\"The triangle is isosceles triangle\")\n",
    "else:\n",
    "    print(\"The triangle is scalene triangle\")"
   ]
  },
  {
   "cell_type": "code",
   "execution_count": 6,
   "id": "353fa887-5deb-4a1f-b5f6-eec53469aab8",
   "metadata": {},
   "outputs": [
    {
     "name": "stdin",
     "output_type": "stream",
     "text": [
      "Enter the number 3\n"
     ]
    },
    {
     "name": "stdout",
     "output_type": "stream",
     "text": [
      "Wednesday\n"
     ]
    }
   ],
   "source": [
    "# Write a Python program to determine the day of the week based on a user-provided number using if-else.\n",
    "day=int(input(\"Enter the number\"))\n",
    "if day==1:\n",
    "    print(\"Monday\")\n",
    "elif day==2:\n",
    "    print(\"Tuesday\")\n",
    "elif day==3:\n",
    "    print(\"Wednesday\")\n",
    "elif day==4:\n",
    "    print(\"Thursday\")\n",
    "elif day==5:\n",
    "    print(\"Friday\")\n",
    "elif day==6:\n",
    "    print(\"Saturday\")\n",
    "elif day==7:\n",
    "    print(\"Sunday\")\n",
    "else:\n",
    "    print(\"Please enter a number from 1 to 7\")"
   ]
  },
  {
   "cell_type": "code",
   "execution_count": 9,
   "id": "e44c7b88-5b71-43cb-ab3a-54aaefb6492c",
   "metadata": {},
   "outputs": [
    {
     "name": "stdin",
     "output_type": "stream",
     "text": [
      "Enter year 1996\n"
     ]
    },
    {
     "name": "stdout",
     "output_type": "stream",
     "text": [
      "The year is leap year\n"
     ]
    }
   ],
   "source": [
    "# Create a Python program that checks if a given year is a leap year using both if-else and a function.\n",
    "def leap_year():\n",
    "    n=int(input(\"Enter year\"))\n",
    "    if (n%4==0 and n%100!=0) or (n%400==0):\n",
    "        print(\"The year is leap year\")\n",
    "    else:\n",
    "        print(\"The year is not a leap year\")\n",
    "leap_year()"
   ]
  },
  {
   "cell_type": "code",
   "execution_count": null,
   "id": "55c1529a-f6be-4b41-a7ad-236ec5601aaf",
   "metadata": {},
   "outputs": [],
   "source": [
    "# How do you use the \"assert\" statement in Python to add debugging checks within if-else blocks?\n",
    "The assert statement in Python is used to check whether a given condition is true and triggers an AssertionError if the condition is false.\n",
    "It's commonly used for debugging purposes and to enforce assumptions about the state of the program.\n",
    "\n",
    "def divide(a, b):\n",
    "    # check if b is zero or not, if it is zero then print the following error\n",
    "    assert b != 0, \"Division by zero error\"\n",
    "    # if the denominator is not zero then return this value\n",
    "    return a / b"
   ]
  },
  {
   "cell_type": "code",
   "execution_count": 1,
   "id": "3de94ca8-92b1-4484-a913-91e7884e759e",
   "metadata": {},
   "outputs": [
    {
     "name": "stdin",
     "output_type": "stream",
     "text": [
      "Enter the age 45\n"
     ]
    },
    {
     "name": "stdout",
     "output_type": "stream",
     "text": [
      "The person is not eligible for senior citizen discount\n"
     ]
    }
   ],
   "source": [
    "# Create a Python program that determines the eligibility of a person for a senior citizen discount based on age using if-else.\n",
    "age=int(input(\"Enter the age\"))\n",
    "if age>=60:\n",
    "    print(\"The person is eligible for senior citizen discount\")\n",
    "else:\n",
    "    print(\"The person is not eligible for senior citizen discount\")"
   ]
  },
  {
   "cell_type": "code",
   "execution_count": 14,
   "id": "2de833d3-3fcc-45df-ac54-b0c16328a992",
   "metadata": {},
   "outputs": [
    {
     "name": "stdin",
     "output_type": "stream",
     "text": [
      "Enter your character A\n"
     ]
    },
    {
     "name": "stdout",
     "output_type": "stream",
     "text": [
      "The character is uppercase\n"
     ]
    }
   ],
   "source": [
    "# Write a Python program to categorize a given character as uppercase, lowercase, or neither using if-else.\n",
    "char2=input(\"Enter your character\")\n",
    "if char2.isupper():\n",
    "    print(\"The character is uppercase\")\n",
    "elif char2.islower():\n",
    "    print(\"The character is lowercase\")\n",
    "else:\n",
    "    print(\"The character is neither uppercase or lowercase\")"
   ]
  },
  {
   "cell_type": "code",
   "execution_count": 22,
   "id": "0a06fc4d-b883-46dc-93a8-ad6292491403",
   "metadata": {},
   "outputs": [],
   "source": [
    "# Write a Python program to determine the roots of a quadratic equation using if-else.\n",
    "import math \n",
    "def equationroots( a, b, c):\n",
    "    if a==0:\n",
    "        print(\"Input correct quadratic equation\")\n",
    "    else:\n",
    "        dis = b * b - 4 * a * c \n",
    "        sqrt_val = math.sqrt(abs(dis)) \n",
    "    \n",
    "    # checking condition for discriminant\n",
    "        if dis > 0: \n",
    "            print(\"real and different roots\") \n",
    "            print((-b + sqrt_val)/(2 * a)) \n",
    "            print((-b - sqrt_val)/(2 * a)) \n",
    "    \n",
    "        elif dis == 0: \n",
    "            print(\"real and same roots\") \n",
    "            print(-b / (2 * a)) \n",
    "    \n",
    "    # when discriminant is less than 0\n",
    "        else:\n",
    "            print(\"Complex Roots\") \n",
    "            print(- b / (2 * a), + i, sqrt_val / (2 * a)) \n",
    "            print(- b / (2 * a), - i, sqrt_val / (2 * a))"
   ]
  },
  {
   "cell_type": "code",
   "execution_count": 28,
   "id": "e16aad6d-0e6f-49ae-9a96-b617f25e5f35",
   "metadata": {},
   "outputs": [
    {
     "name": "stdout",
     "output_type": "stream",
     "text": [
      "real and different roots\n",
      "2.0\n",
      "-12.0\n"
     ]
    }
   ],
   "source": [
    "equationroots(1,10,-24)"
   ]
  },
  {
   "cell_type": "code",
   "execution_count": 32,
   "id": "af9de260-f46e-42ad-b8e7-92cee5aee884",
   "metadata": {},
   "outputs": [
    {
     "name": "stdin",
     "output_type": "stream",
     "text": [
      "Enter year 2000\n"
     ]
    },
    {
     "name": "stdout",
     "output_type": "stream",
     "text": [
      "The year is a century year\n"
     ]
    }
   ],
   "source": [
    "# Create a Python program that checks if a given year is a century year or not using if-else.\n",
    "year1=int(input(\"Enter year\"))\n",
    "if year1%100==0:\n",
    "    print(\"The year is a century year\")\n",
    "else:\n",
    "    print(\"The year is not a century year\")"
   ]
  },
  {
   "cell_type": "code",
   "execution_count": 41,
   "id": "e2e0b084-1421-44ec-b868-5f8dd1a2b63e",
   "metadata": {},
   "outputs": [
    {
     "name": "stdin",
     "output_type": "stream",
     "text": [
      "Enter your number 64\n"
     ]
    },
    {
     "name": "stdout",
     "output_type": "stream",
     "text": [
      "The given number is a perfect square\n"
     ]
    }
   ],
   "source": [
    "# Write a Python program to determine if a given number is a perfect square using if-else.\n",
    "num=int(input(\"Enter your number\"))\n",
    "sq_root=num**0.5\n",
    "if sq_root.is_integer():\n",
    "    print(\"The given number is a perfect square\")\n",
    "else:\n",
    "    print(\"The given number is not a perfect square\")"
   ]
  },
  {
   "cell_type": "code",
   "execution_count": 42,
   "id": "4bca1a8e-23ff-4ef4-9571-083d74283cb3",
   "metadata": {},
   "outputs": [
    {
     "name": "stdout",
     "output_type": "stream",
     "text": [
      "continue example\n",
      "1\n",
      "2\n",
      "3\n",
      "4\n",
      "6\n",
      "7\n",
      "8\n"
     ]
    }
   ],
   "source": [
    "# Explain the purpose of the \"continue\" and \"break\" statements within if-else loops.\n",
    "Both continue and break are used inside if-else loops\n",
    "continue: while looping if the particular condition is true then continue will skip that condition and the loop will move on except that condition\n",
    "break: If the break is applied for a particular condition then the loop will break/come out at that particular condition and the loop will not move forward\n",
    "\n",
    "# continue example\n",
    "print(\"continue example\")\n",
    "for i in range(1,9):\n",
    "    # for the value of 5 the loop will be skipped and the loop will move forward\n",
    "    if i==5:\n",
    "        continue\n",
    "    else:\n",
    "        print(i)"
   ]
  },
  {
   "cell_type": "code",
   "execution_count": 43,
   "id": "836c55e7-eb90-4fab-a017-74c94fc15f61",
   "metadata": {},
   "outputs": [
    {
     "name": "stdout",
     "output_type": "stream",
     "text": [
      "break example\n",
      "1\n",
      "2\n",
      "3\n",
      "4\n"
     ]
    }
   ],
   "source": [
    "# break example\n",
    "print(\"break example\")\n",
    "for i in range(1,9):\n",
    "    # when i=5 is encountered the loop breaks and it comes out \n",
    "    if i==5:\n",
    "        break\n",
    "    else:\n",
    "        print(i)"
   ]
  },
  {
   "cell_type": "code",
   "execution_count": 4,
   "id": "ae4c89cb-eafc-4e00-bcdf-e530b0833513",
   "metadata": {},
   "outputs": [
    {
     "name": "stdin",
     "output_type": "stream",
     "text": [
      "Enter your weight 53\n",
      "Enter your height 124\n"
     ]
    },
    {
     "name": "stdout",
     "output_type": "stream",
     "text": [
      "Underweight\n"
     ]
    }
   ],
   "source": [
    "# Create a Python program that calculates the BMI (Body Mass Index) of a person based on their weight and height using if-else.\n",
    "weight=float(input(\"Enter your weight\"))\n",
    "height=float(input(\"Enter your height\"))\n",
    "bmi=weight/(height**2)\n",
    "if bmi<18.5:\n",
    "    print(\"Underweight\")\n",
    "elif 18.5 <= bmi < 25:\n",
    "    print(\"Normal weight\")\n",
    "elif 25 <= bmi < 30:\n",
    "    print(\"Overweight\")\n",
    "else:\n",
    "    print(\"Obese\")"
   ]
  },
  {
   "cell_type": "code",
   "execution_count": 5,
   "id": "f6dfd4d6-611e-4e97-80ad-c29f3eb12cd9",
   "metadata": {},
   "outputs": [
    {
     "data": {
      "text/plain": [
       "[2, 6, 56, 78, 34, 32, 2]"
      ]
     },
     "execution_count": 5,
     "metadata": {},
     "output_type": "execute_result"
    }
   ],
   "source": [
    "# How can you use the \"filter()\" function with if-else statements to filter elements from a list?\n",
    "Filter will try to implement the logic given to every element of the list and wherever the condition is true it will keep only that data.\n",
    "# Example: Filter out even numbers in a list\n",
    "l=[2,5,6,7,45,56,78,34,32,2]\n",
    "list(filter(lambda a:a%2==0,l))"
   ]
  },
  {
   "cell_type": "code",
   "execution_count": 9,
   "id": "031ee97a-14da-4d92-98f1-6785acfed5a4",
   "metadata": {},
   "outputs": [
    {
     "data": {
      "text/plain": [
       "'The number is prime number'"
      ]
     },
     "execution_count": 9,
     "metadata": {},
     "output_type": "execute_result"
    }
   ],
   "source": [
    "# Write a Python program to determine if a given number is prime or not using if-else.\n",
    "def is_prime(number):\n",
    "    if number <= 1:\n",
    "        return \"The number is not prime number\"\n",
    "    for i in range(2, int(number**0.5) + 1):\n",
    "        if number % i == 0:\n",
    "            return \"The number is not prime number\"\n",
    "    return \"The number is prime number\"\n",
    "is_prime(11)"
   ]
  },
  {
   "cell_type": "code",
   "execution_count": null,
   "id": "a4398640-3495-432e-a606-9e0785f05f53",
   "metadata": {},
   "outputs": [],
   "source": [
    "############################ map ####################################\n"
   ]
  },
  {
   "cell_type": "code",
   "execution_count": null,
   "id": "81d5c27f-0e0d-460d-908b-1b1c27da2687",
   "metadata": {},
   "outputs": [],
   "source": [
    "# Explain the purpose of the `map()` function in Python and provide an example of how it can be used to apply a function to each element of an iterable.\n",
    "The map will go through the list iteratively and will try to match each and every element with the function that is being provided.\n",
    "The map will implement function individually on each element and give the final result.\n",
    "The map will take two arguements, one the function which will be applied and other one the iterable data.\n",
    "         map(function,data)"
   ]
  },
  {
   "cell_type": "code",
   "execution_count": 2,
   "id": "9d1d56b0-7bc9-40a0-a6f3-bf663a1fe47b",
   "metadata": {},
   "outputs": [
    {
     "data": {
      "text/plain": [
       "[8, 12, 2, 5]"
      ]
     },
     "execution_count": 2,
     "metadata": {},
     "output_type": "execute_result"
    }
   ],
   "source": [
    "# map example\n",
    "# Program to take a list and find the length of all elements inside it using map.\n",
    "l1=[\"pwskills\",\"data science\",\"hi\",\"hello\"]\n",
    "list(map(lambda a:len(a),l1))"
   ]
  },
  {
   "cell_type": "code",
   "execution_count": 6,
   "id": "5de4ed1b-3252-468a-a9d2-ded7747be814",
   "metadata": {},
   "outputs": [
    {
     "name": "stdin",
     "output_type": "stream",
     "text": [
      "Enter number of elements in list 4\n",
      "Enter element 2\n",
      "Enter element 6\n",
      "Enter element 8\n",
      "Enter element 4\n"
     ]
    },
    {
     "data": {
      "text/plain": [
       "[4, 36, 64, 16]"
      ]
     },
     "execution_count": 6,
     "metadata": {},
     "output_type": "execute_result"
    }
   ],
   "source": [
    "# Write a Python program that uses the `map()` function to square each element of a list of numbers.\n",
    "n=int(input(\"Enter number of elements in list\"))\n",
    "l2=[]\n",
    "for i in range(1,n+1):\n",
    "    c=int(input(\"Enter element\"))\n",
    "    l2.append(c)\n",
    "list(map(lambda a:a*a,l2))"
   ]
  },
  {
   "cell_type": "code",
   "execution_count": null,
   "id": "d66dec54-e154-4ed9-aae5-cf0b2cf97b9c",
   "metadata": {},
   "outputs": [],
   "source": [
    "# How does the `map()` function differ from a list comprehension in Python, and when would you choose one over the other?\n",
    "The map() function applies a given function to each item of an iterable (such as a list) and returns an iterator that yields the results.\n",
    "List comprehensions provide a concise way to create lists in Python. You can apply operations and filters directly within the comprehension.\n",
    "\n",
    "map() returns an iterator, which means it computes the values as needed, potentially saving memory. List comprehensions generate the entire list in memory upfront.\n",
    "List comprehensions are generally more readable and concise, especially for simple operations. If the transformation logic is straightforward, a list comprehension may be preferred."
   ]
  },
  {
   "cell_type": "code",
   "execution_count": 10,
   "id": "abeaef0f-8c00-46ad-9ff4-be90fa61b0e4",
   "metadata": {},
   "outputs": [
    {
     "name": "stdin",
     "output_type": "stream",
     "text": [
      "Enter the number of elements in the list 3\n",
      "Enter element pwskills\n",
      "Enter element hey\n",
      "Enter element how are you\n"
     ]
    },
    {
     "data": {
      "text/plain": [
       "['PWSKILLS', 'HEY', 'HOW ARE YOU']"
      ]
     },
     "execution_count": 10,
     "metadata": {},
     "output_type": "execute_result"
    }
   ],
   "source": [
    "# Create a Python program that uses the `map()` function to convert a list of names to uppercase.\n",
    "n1=int(input(\"Enter the number of elements in the list\"))\n",
    "l3=[]\n",
    "for i in range(1,n1+1):\n",
    "    c1=input(\"Enter element\")\n",
    "    l3.append(c1)\n",
    "list(map(lambda a:a.upper(),l3))"
   ]
  },
  {
   "cell_type": "code",
   "execution_count": 11,
   "id": "a0bed0d4-f149-4f87-98aa-94c218c38c12",
   "metadata": {},
   "outputs": [
    {
     "name": "stdin",
     "output_type": "stream",
     "text": [
      "Enter the number of elements in the list 4\n",
      "Enter element hi\n",
      "Enter element how\n",
      "Enter element are you\n",
      "Enter element pwskills\n"
     ]
    },
    {
     "data": {
      "text/plain": [
       "[2, 3, 7, 8]"
      ]
     },
     "execution_count": 11,
     "metadata": {},
     "output_type": "execute_result"
    }
   ],
   "source": [
    "# Write a Python program that uses the `map()` function to calculate the length of each word in a list of strings.\n",
    "n2=int(input(\"Enter the number of elements in the list\"))\n",
    "l4=[]\n",
    "for i in range(1,n2+1):\n",
    "    c2=input(\"Enter element\")\n",
    "    l4.append(c2)\n",
    "list(map(lambda a:len(a),l4))"
   ]
  },
  {
   "cell_type": "code",
   "execution_count": null,
   "id": "84978137-4fdc-48ac-b124-4672ff6ff8d9",
   "metadata": {},
   "outputs": [],
   "source": [
    "# How can you use the `map()` function to apply a custom function to elements of multiple lists simultaneously in Python?\n",
    "We can use the map() function to apply a custom function to elements of multiple lists simultaneously by passing the lists as arguments to the map() function along with the custom function.\n",
    "   list(map(function, list1, list2)"
   ]
  },
  {
   "cell_type": "code",
   "execution_count": 17,
   "id": "fbd4b332-6c89-49ec-82e7-a2e9aec09655",
   "metadata": {},
   "outputs": [
    {
     "name": "stdin",
     "output_type": "stream",
     "text": [
      "Enter the number of elements in list 4\n",
      "Enter element 12\n",
      "Enter element -3\n",
      "Enter element 45\n",
      "Enter element -18\n"
     ]
    },
    {
     "data": {
      "text/plain": [
       "[53.6, 26.6, 113.0, -0.3999999999999986]"
      ]
     },
     "execution_count": 17,
     "metadata": {},
     "output_type": "execute_result"
    }
   ],
   "source": [
    "# Create a Python program that uses `map()` to convert a list of temperatures from Celsius to Fahrenheit.\n",
    "n=int(input(\"Enter the number of elements in list\"))\n",
    "l=[]\n",
    "for i in range(1,n+1):\n",
    "    c=float(input(\"Enter element\"))\n",
    "    l.append(c)\n",
    "list(map(lambda a:(a*9/5)+32,l))"
   ]
  },
  {
   "cell_type": "code",
   "execution_count": 19,
   "id": "b4a7ff32-07cc-4a38-8e22-a6ff102ce494",
   "metadata": {},
   "outputs": [
    {
     "data": {
      "text/plain": [
       "[34, 100, 6, 58, 68]"
      ]
     },
     "execution_count": 19,
     "metadata": {},
     "output_type": "execute_result"
    }
   ],
   "source": [
    "# Write a Python program that uses the `map()` function to round each element of a list of floating-point numbers to the nearest integer.\n",
    "l=(34.5,99.8,6.3,57.9,67.89)\n",
    "list(map (round,l))"
   ]
  },
  {
   "cell_type": "code",
   "execution_count": null,
   "id": "6d5ba905-6d49-43e6-907f-a4d7ea2b9172",
   "metadata": {},
   "outputs": [],
   "source": [
    "# What is the `reduce()` function in Python, and what module should you import to use it? Provide an example of its basic usage.\n",
    "The reduce() function in Python is used to apply a function to an iterable and reduce it to a single cumulative value. \n",
    "It repeatedly applies the specified function to the elements of the iterable, cumulatively combining them to produce a single result.\n"
   ]
  },
  {
   "cell_type": "code",
   "execution_count": 1,
   "id": "d9a17022-506f-442b-80a0-ca81d66acd59",
   "metadata": {},
   "outputs": [
    {
     "data": {
      "text/plain": [
       "68"
      ]
     },
     "execution_count": 1,
     "metadata": {},
     "output_type": "execute_result"
    }
   ],
   "source": [
    "# reduce example\n",
    "# reduce function to calculate the sum of the numbers in a list\n",
    "from functools import reduce\n",
    "list2=[1,2,3,6,56]\n",
    "reduce(lambda a,b:a+b,list2)"
   ]
  },
  {
   "cell_type": "code",
   "execution_count": 21,
   "id": "2230b994-339b-428b-973a-4c0facf45fa7",
   "metadata": {},
   "outputs": [
    {
     "data": {
      "text/plain": [
       "24"
      ]
     },
     "execution_count": 21,
     "metadata": {},
     "output_type": "execute_result"
    }
   ],
   "source": [
    "# Write a Python program that uses the `reduce()` function to find the product of all elements in a list.\n",
    "from functools import reduce\n",
    "l=(1,2,4,3)\n",
    "reduce(lambda a,b:a*b,l)"
   ]
  },
  {
   "cell_type": "code",
   "execution_count": 22,
   "id": "200d195a-fea4-42ab-9c6a-62e3fd69aa3b",
   "metadata": {},
   "outputs": [
    {
     "data": {
      "text/plain": [
       "305"
      ]
     },
     "execution_count": 22,
     "metadata": {},
     "output_type": "execute_result"
    }
   ],
   "source": [
    "# Create a Python program that uses `reduce()` to find the maximum element in a list of numbers.\n",
    "from functools import reduce\n",
    "l1=(101,78,9,305,45,23,56)\n",
    "reduce(lambda a,b:max(a,b),l1)"
   ]
  },
  {
   "cell_type": "code",
   "execution_count": 24,
   "id": "90314fbe-f163-4f31-9d32-025e7c3fb5b2",
   "metadata": {},
   "outputs": [
    {
     "data": {
      "text/plain": [
       "'hi how are you'"
      ]
     },
     "execution_count": 24,
     "metadata": {},
     "output_type": "execute_result"
    }
   ],
   "source": [
    "# How can you use the `reduce()` function to concatenate a list of strings into a single string?\n",
    "from functools import reduce\n",
    "list1=(\"hi\",\"how\",\"are\",\"you\")\n",
    "reduce(lambda a,b: a+\" \"+b,list1)"
   ]
  },
  {
   "cell_type": "code",
   "execution_count": 28,
   "id": "3233d07d-d8b2-4a17-aacb-0d230b84f269",
   "metadata": {},
   "outputs": [
    {
     "name": "stdin",
     "output_type": "stream",
     "text": [
      "Enter number 6\n"
     ]
    },
    {
     "data": {
      "text/plain": [
       "720"
      ]
     },
     "execution_count": 28,
     "metadata": {},
     "output_type": "execute_result"
    }
   ],
   "source": [
    "# Write a Python program that calculates the factorial of a number using the `reduce()` function.\n",
    "from functools import reduce\n",
    "n=int(input(\"Enter number\"))\n",
    "reduce(lambda a,b:a*b,range(1,n+1))"
   ]
  },
  {
   "cell_type": "code",
   "execution_count": null,
   "id": "e0382cbf-75f3-407c-978a-d05a1e1719e1",
   "metadata": {},
   "outputs": [],
   "source": [
    "######################### filter #########################\n"
   ]
  },
  {
   "cell_type": "code",
   "execution_count": null,
   "id": "7fc0190c-9288-4ba9-9143-46442646889d",
   "metadata": {},
   "outputs": [],
   "source": [
    "# Explain the purpose of the `filter()` function in Python and provide an example of how it can be used to filter elements from an iterable.\n",
    "The filter() function in Python is used to filter elements from an iterable (such as a list) based on a specified condition. \n",
    "It takes two arguments: a function and an iterable. The function is applied to each element of the iterable, and only those elements for which the function returns True are included in the output.\n",
    "    filter(function,iterable_data)"
   ]
  },
  {
   "cell_type": "code",
   "execution_count": 4,
   "id": "a43fd9dc-562d-4603-83b5-1c6313b52b58",
   "metadata": {},
   "outputs": [
    {
     "data": {
      "text/plain": [
       "[23, 67, 99]"
      ]
     },
     "execution_count": 4,
     "metadata": {},
     "output_type": "execute_result"
    }
   ],
   "source": [
    "# filter example\n",
    "# To filter out the odd numbers in a list\n",
    "l5=[23,67,46,8,2,48,99]\n",
    "list(filter(lambda a:a%2!=0,l5))"
   ]
  },
  {
   "cell_type": "code",
   "execution_count": 7,
   "id": "d4dd9b04-d540-46a5-b0ba-904d8219add8",
   "metadata": {},
   "outputs": [
    {
     "name": "stdin",
     "output_type": "stream",
     "text": [
      "Enter number of elements inside a list 6\n",
      "Enter elements 34\n",
      "Enter elements 57\n",
      "Enter elements 68\n",
      "Enter elements 2\n",
      "Enter elements 90\n",
      "Enter elements 45\n"
     ]
    },
    {
     "name": "stdout",
     "output_type": "stream",
     "text": [
      "The original list is [34, 57, 68, 2, 90, 45]\n",
      "The list with even numbers is\n"
     ]
    },
    {
     "data": {
      "text/plain": [
       "[34, 68, 2, 90]"
      ]
     },
     "execution_count": 7,
     "metadata": {},
     "output_type": "execute_result"
    }
   ],
   "source": [
    "# Write a Python program that uses the `filter()` function to select even numbers from a list of integers.\n",
    "n=int(input(\"Enter number of elements inside a list\"))\n",
    "l=[]\n",
    "for i in range(1,n+1):\n",
    "    c=int(input(\"Enter elements\"))\n",
    "    l.append(c)\n",
    "print(\"The original list is\",l)\n",
    "print(\"The list with even numbers is\")\n",
    "list(filter(lambda a:a%2==0,l))"
   ]
  },
  {
   "cell_type": "code",
   "execution_count": 8,
   "id": "ef171347-889c-45d3-bf6d-4a24af10f45e",
   "metadata": {},
   "outputs": [
    {
     "data": {
      "text/plain": [
       "['anu', 'anamika', 'anmol']"
      ]
     },
     "execution_count": 8,
     "metadata": {},
     "output_type": "execute_result"
    }
   ],
   "source": [
    "# Create a Python program that uses the `filter()` function to select names that start with a specific \n",
    "# letter from a list of strings.\n",
    "\n",
    "l2=['anu','rahul','anamika','krishna','anmol','radha']\n",
    "# filters the name starting with a\n",
    "list(filter(lambda a:a[0]=='a',l2))"
   ]
  },
  {
   "cell_type": "code",
   "execution_count": 10,
   "id": "06456c59-29e5-4992-9d3a-e4ca5cc7f44a",
   "metadata": {},
   "outputs": [
    {
     "data": {
      "text/plain": [
       "[2, 3, 5, 7, 11, 13]"
      ]
     },
     "execution_count": 10,
     "metadata": {},
     "output_type": "execute_result"
    }
   ],
   "source": [
    "# Write a Python program that uses the `filter()` function to select prime numbers from a list of integers.\n",
    "def prime(n):\n",
    "    if n <= 1:\n",
    "        return False\n",
    "    for i in range(2, int(n**0.5) + 1):\n",
    "        if n % i == 0:\n",
    "            return False\n",
    "    return True\n",
    "l4=[2, 3, 4, 5, 6, 7, 8, 9, 10, 11, 12, 13]\n",
    "list(filter(prime, l4))"
   ]
  },
  {
   "cell_type": "code",
   "execution_count": 15,
   "id": "c0700566-20bf-49d0-805e-8b001e4054f0",
   "metadata": {},
   "outputs": [
    {
     "data": {
      "text/plain": [
       "[1, 4, 6, 8, 9]"
      ]
     },
     "execution_count": 15,
     "metadata": {},
     "output_type": "execute_result"
    }
   ],
   "source": [
    "# How can you use the `filter()` function to remove None values from a list in Python?\n",
    "l5=[1,None,4,6,None,8,None,9]\n",
    "list(filter(lambda a:a is not None,l5))"
   ]
  },
  {
   "cell_type": "code",
   "execution_count": 16,
   "id": "f8e11ba8-74d0-4b38-ac50-eda98934c887",
   "metadata": {},
   "outputs": [
    {
     "data": {
      "text/plain": [
       "['pwskills', 'harry', 'sunshine', 'world']"
      ]
     },
     "execution_count": 16,
     "metadata": {},
     "output_type": "execute_result"
    }
   ],
   "source": [
    "# Create a Python program that uses `filter()` to select words longer than a certain length \n",
    "# from a list of strings.\n",
    "\n",
    "l6=['pwskills','harry','hi','hey','sunshine','world']\n",
    "list(filter(lambda a:len(a)>3,l6))"
   ]
  },
  {
   "cell_type": "code",
   "execution_count": 17,
   "id": "f5fc1ca1-b580-4268-8a3c-77b4e186f535",
   "metadata": {},
   "outputs": [
    {
     "name": "stdin",
     "output_type": "stream",
     "text": [
      "Enter threshold value 30\n"
     ]
    },
    {
     "data": {
      "text/plain": [
       "[78, 90, 34, 56]"
      ]
     },
     "execution_count": 17,
     "metadata": {},
     "output_type": "execute_result"
    }
   ],
   "source": [
    "# Write a Python program that uses the `filter()` function to select elements greater than a specified \n",
    "# threshold from a list of values.\n",
    "\n",
    "l=[5,78,4,90,34,56,10,30]\n",
    "threshold=int(input(\"Enter threshold value\"))\n",
    "list(filter(lambda a:a>threshold,l))"
   ]
  },
  {
   "cell_type": "code",
   "execution_count": null,
   "id": "0ee44578-9d82-4522-96e5-19c807ace87d",
   "metadata": {},
   "outputs": [],
   "source": [
    "\n",
    "############################ Recursion #########################\n"
   ]
  },
  {
   "cell_type": "code",
   "execution_count": null,
   "id": "8331a042-ce66-4677-ab64-49afd089c5b5",
   "metadata": {},
   "outputs": [],
   "source": [
    "# Explain the concept of recursion in Python. How does it differ from iteration?\n",
    "In recursion Each recursive call reduces the original problem into simpler subproblems until a base case is \n",
    "reached, which is a condition where the function stops calling itself and returns a result without further \n",
    "recursion.\n",
    "whereas Iteration is a programming technique where a set of instructions is repeatedly executed until a \n",
    "specific condition is met."
   ]
  },
  {
   "cell_type": "code",
   "execution_count": 28,
   "id": "9d168741-3b21-4a07-9ff8-a779b3f4be79",
   "metadata": {},
   "outputs": [
    {
     "name": "stdin",
     "output_type": "stream",
     "text": [
      "Enter number 5\n"
     ]
    },
    {
     "data": {
      "text/plain": [
       "120"
      ]
     },
     "execution_count": 28,
     "metadata": {},
     "output_type": "execute_result"
    }
   ],
   "source": [
    "# Write a Python program to calculate the factorial of a number using recursion.\n",
    "def factorial(n):\n",
    "    if n<=1:\n",
    "        return 1\n",
    "    else:\n",
    "        return n*factorial(n-1)\n",
    "n=int(input(\"Enter number\"))\n",
    "factorial(n)"
   ]
  },
  {
   "cell_type": "code",
   "execution_count": 40,
   "id": "acc47394-7a7f-41b6-aaed-feee626a1025",
   "metadata": {},
   "outputs": [
    {
     "data": {
      "text/plain": [
       "21"
      ]
     },
     "execution_count": 40,
     "metadata": {},
     "output_type": "execute_result"
    }
   ],
   "source": [
    "# Create a recursive Python function to find the nth Fibonacci number.\n",
    "def fibonacci_recursion(n):\n",
    "    if n<= 0:\n",
    "        print(\"Incorrect input\")\n",
    "    elif n == 1:\n",
    "        return 0\n",
    "    elif n == 2:\n",
    "        return 1\n",
    "    else:\n",
    "        return fibonacci_recursion(n-1)+fibonacci_recursion(n-2)\n",
    "fibonacci_recursion(9)"
   ]
  },
  {
   "cell_type": "code",
   "execution_count": 1,
   "id": "126a97f4-6857-4cfa-86ee-b0faffb746ad",
   "metadata": {},
   "outputs": [
    {
     "data": {
      "text/plain": [
       "10"
      ]
     },
     "execution_count": 1,
     "metadata": {},
     "output_type": "execute_result"
    }
   ],
   "source": [
    "# Write a recursive Python function to calculate the sum of all elements in a list.\n",
    "\n",
    "def recursive_sum(lst):\n",
    "    if not lst:\n",
    "        return 0\n",
    "    else:\n",
    "        return lst[0] + recursive_sum(lst[1:])\n",
    "    \n",
    "lst=[1,2,3,4]\n",
    "recursive_sum(lst)"
   ]
  },
  {
   "cell_type": "code",
   "execution_count": null,
   "id": "b8989717-2046-4c6c-91ba-879e7f733051",
   "metadata": {},
   "outputs": [],
   "source": [
    "# How can you prevent a recursive function from running indefinitely, causing a stack overflow error?\n",
    "We can use a limit on the maximum recursion depth to prevent stack overflow.\n",
    "If a recursive function exceeds this limit, Python raises a ‘RecursionError.’\n",
    "\n",
    "Adding a base case\n",
    "One effective way to prevent RecursionError is to ensure that the recursive function has a proper \n",
    "stopping condition, commonly referred to as a base case. This ensures that the recursion stops when \n",
    "a certain condition is met.\n",
    "def factorial_recursive_with_base_case(n):\n",
    "    # Base case\n",
    "    if n == 0:\n",
    "        return 1\n",
    "    else:\n",
    "    return n * factorial_recursive_with_base_case(n - 1)"
   ]
  },
  {
   "cell_type": "code",
   "execution_count": 2,
   "id": "6ceefeac-b5eb-4aa6-b38d-4474585423fd",
   "metadata": {},
   "outputs": [
    {
     "name": "stdin",
     "output_type": "stream",
     "text": [
      "Enter first number 4\n",
      "Enter second number 5\n"
     ]
    },
    {
     "data": {
      "text/plain": [
       "1"
      ]
     },
     "execution_count": 2,
     "metadata": {},
     "output_type": "execute_result"
    }
   ],
   "source": [
    "# Create a recursive Python function to find the greatest common divisor (GCD) of two numbers using the \n",
    "# Euclidean algorithm.\n",
    "\n",
    "def gcd(a, b):\n",
    "    if b == 0:\n",
    "        return a\n",
    "    else:\n",
    "        return gcd(b, a % b)\n",
    "    \n",
    "a=int(input(\"Enter first number\"))\n",
    "b=int(input(\"Enter second number\"))\n",
    "gcd(a,b)"
   ]
  },
  {
   "cell_type": "code",
   "execution_count": 3,
   "id": "155c449f-0c25-45b9-9d44-e26d57cb3cf1",
   "metadata": {},
   "outputs": [
    {
     "name": "stdin",
     "output_type": "stream",
     "text": [
      "Enter string reverse\n"
     ]
    },
    {
     "data": {
      "text/plain": [
       "'esrever'"
      ]
     },
     "execution_count": 3,
     "metadata": {},
     "output_type": "execute_result"
    }
   ],
   "source": [
    "# Write a recursive Python function to reverse a string.\n",
    "def reverse_string(s):\n",
    "    if len(s) <= 1:\n",
    "        return s\n",
    "    else:\n",
    "        return s[-1] + reverse_string(s[:-1])\n",
    "    \n",
    "s=input(\"Enter string\")\n",
    "reverse_string(s)"
   ]
  },
  {
   "cell_type": "code",
   "execution_count": 2,
   "id": "48848f10-3046-4eb1-bbb3-7e22afa4b1c7",
   "metadata": {},
   "outputs": [
    {
     "data": {
      "text/plain": [
       "8"
      ]
     },
     "execution_count": 2,
     "metadata": {},
     "output_type": "execute_result"
    }
   ],
   "source": [
    "# Create a recursive Python function to calculate the power of a number (x^n).\n",
    "def power(x, n):\n",
    "    if n == 0:\n",
    "        return 1\n",
    "    elif n > 0:\n",
    "        return x * power(x, n-1)\n",
    "    else:\n",
    "        return 1 / power(x, -n)\n",
    "power(2,3)"
   ]
  },
  {
   "cell_type": "code",
   "execution_count": 5,
   "id": "d73a25d8-8d81-4276-b66a-934c0ec4a0fc",
   "metadata": {},
   "outputs": [
    {
     "data": {
      "text/plain": [
       "['hey', 'hye', 'ehy', 'eyh', 'yhe', 'yeh']"
      ]
     },
     "execution_count": 5,
     "metadata": {},
     "output_type": "execute_result"
    }
   ],
   "source": [
    "# Write a recursive Python function to find all permutations of a given string.\n",
    "def permutations(s):\n",
    "    if len(s) <= 1:\n",
    "        return [s]\n",
    "    else:\n",
    "        perms = []\n",
    "        for i in range(len(s)):\n",
    "            remaining_chars = s[:i] + s[i+1:]\n",
    "            remaining_perms = permutations(remaining_chars)\n",
    "            for perm in remaining_perms:\n",
    "                perms.append(s[i] + perm)\n",
    "        return perms\n",
    "permutations(\"hey\")"
   ]
  },
  {
   "cell_type": "code",
   "execution_count": 15,
   "id": "8a677225-269f-40d9-a1a8-8416fda6401f",
   "metadata": {},
   "outputs": [
    {
     "name": "stdin",
     "output_type": "stream",
     "text": [
      "Enter a string:  malayalam\n"
     ]
    },
    {
     "name": "stdout",
     "output_type": "stream",
     "text": [
      "The string is a palindrome.\n"
     ]
    }
   ],
   "source": [
    "# Write a recursive Python function to check if a string is a palindrome.\n",
    "def is_palindrome(s):\n",
    "    if len(s) <= 1:\n",
    "        return True\n",
    "    else:\n",
    "        if s[0] == s[-1]:\n",
    "            return is_palindrome(s[1:-1])\n",
    "        else:\n",
    "            return False\n",
    "input_string = input(\"Enter a string: \")\n",
    "result = is_palindrome(input_string)\n",
    "if result:\n",
    "    print(\"The string is a palindrome.\")\n",
    "else:\n",
    "    print(\"The string is not a palindrome.\")"
   ]
  },
  {
   "cell_type": "code",
   "execution_count": 18,
   "id": "d9f9c1b7-7c21-4673-82dd-f525dc583250",
   "metadata": {},
   "outputs": [
    {
     "name": "stdin",
     "output_type": "stream",
     "text": [
      "Enter elements of the list separated by spaces:  key space hey\n"
     ]
    },
    {
     "name": "stdout",
     "output_type": "stream",
     "text": [
      "All possible combinations: [['key', 'space', 'hey'], ['key', 'space'], ['key', 'hey'], ['key'], ['space', 'hey'], ['space'], ['hey'], []]\n"
     ]
    }
   ],
   "source": [
    "# Create a recursive Python function to generate all possible combinations of a list of elements.\n",
    "def combinations(lst):\n",
    "    if len(lst) == 0:\n",
    "        return [[]]\n",
    "    else:\n",
    "        first_elem = lst[0]\n",
    "        remaining_elems = lst[1:]\n",
    "        with_first = [[first_elem] + combo for combo in combinations(remaining_elems)]\n",
    "        without_first = combinations(remaining_elems)\n",
    "        return with_first + without_first\n",
    "    \n",
    "input_list = input(\"Enter elements of the list separated by spaces: \").split()\n",
    "result = combinations(input_list)\n",
    "print(\"All possible combinations:\", result)"
   ]
  },
  {
   "cell_type": "code",
   "execution_count": null,
   "id": "ad173d9a-1afd-440e-808e-b88fd7788005",
   "metadata": {},
   "outputs": [],
   "source": [
    "\n",
    "#################### Basics of Functions ################\n"
   ]
  },
  {
   "cell_type": "code",
   "execution_count": null,
   "id": "da33cde1-1b2c-48c5-a37f-859092407a1e",
   "metadata": {},
   "outputs": [],
   "source": [
    "# What is a function in Python, and why is it used?\n",
    "In Python, a function is a block of reusable code that performs a specific task. \n",
    "It encapsulates a set of instructions that can be executed by calling the function with appropriate \n",
    "arguments. \n",
    "Functions is used because help in organizing code, promoting code reusability, and improving readability \n",
    "and maintainability of programs."
   ]
  },
  {
   "cell_type": "code",
   "execution_count": null,
   "id": "89c86292-97e1-4a44-8c4f-1d078359906f",
   "metadata": {},
   "outputs": [],
   "source": [
    "# How do you define a function in Python? Provide an example.\n",
    "a function using the def keyword followed by the function name, parentheses containing any \n",
    "parameters (if applicable), and a colon.\n",
    "Syntax \n",
    "   def function_name(arguements/parameters/blank):\n",
    "    # Function body\n",
    "    # Perform some task\n",
    "    # return/print a value\n",
    "Example: to add two numbers\n",
    "def add_numbers(x, y):\n",
    "    sum = x + y\n",
    "    return sum\n",
    "# to call defined functions\n",
    "add_numbers(5,7)"
   ]
  },
  {
   "cell_type": "code",
   "execution_count": null,
   "id": "6b09f71c-e068-4e50-aa82-4f898ab80737",
   "metadata": {},
   "outputs": [],
   "source": [
    "# Explain the difference between a function definition and a function call.\n",
    "Function definition:\n",
    "A function definition is a block of code that defines the behavior of a function.\n",
    "It specifies what the function does and how it behaves when called.\n",
    "Function call:\n",
    "A function call is an instruction to execute a specific function with certain arguments (if required). \n",
    "It invokes the execution of the code defined in the function definition.\n",
    "\n",
    "Example:\n",
    "# function definition\n",
    "def greet():\n",
    "    print (\"Hello world\")\n",
    "# funcation call\n",
    "greet()"
   ]
  },
  {
   "cell_type": "code",
   "execution_count": 21,
   "id": "b9637a72-05e6-4ff5-bf9c-20abdabc4908",
   "metadata": {},
   "outputs": [
    {
     "name": "stdin",
     "output_type": "stream",
     "text": [
      "Enter first number 5\n",
      "Enter second number 6\n"
     ]
    },
    {
     "data": {
      "text/plain": [
       "11"
      ]
     },
     "execution_count": 21,
     "metadata": {},
     "output_type": "execute_result"
    }
   ],
   "source": [
    "# Write a Python program that defines a function to calculate the sum of two numbers and then \n",
    "# calls the function.\n",
    "\n",
    "def sum_of_two_numbers():\n",
    "    a=int(input(\"Enter first number\"))\n",
    "    b=int(input(\"Enter second number\"))\n",
    "    return a+b\n",
    "sum_of_two_numbers()"
   ]
  },
  {
   "cell_type": "code",
   "execution_count": null,
   "id": "a02efab4-e906-4ee3-b033-11d3ad8ea95c",
   "metadata": {},
   "outputs": [],
   "source": [
    "# What is a function signature, and what information does it typically include?\n",
    "A function signature is a unique identifier for a function that provides essential information about \n",
    "the functions interface, including its name, parameters, return type (if any), and possibly other metadata.\n",
    "It serves as a concise summary of the functions declaration and usage within a program."
   ]
  },
  {
   "cell_type": "code",
   "execution_count": 29,
   "id": "821826b5-2685-46f2-acea-98e97f48edf2",
   "metadata": {},
   "outputs": [
    {
     "name": "stdin",
     "output_type": "stream",
     "text": [
      "Enter first number 4\n",
      "Enter second number 5\n"
     ]
    },
    {
     "data": {
      "text/plain": [
       "20.0"
      ]
     },
     "execution_count": 29,
     "metadata": {},
     "output_type": "execute_result"
    }
   ],
   "source": [
    "# Create a Python function that takes two arguments and returns their product.\n",
    "def prod():\n",
    "    a=float(input(\"Enter first number\"))\n",
    "    b=float(input(\"Enter second number\"))\n",
    "    return a*b\n",
    "prod()"
   ]
  },
  {
   "cell_type": "code",
   "execution_count": null,
   "id": "423bcb28-36cc-43b3-9b82-c8322b4963b4",
   "metadata": {},
   "outputs": [],
   "source": [
    "\n",
    "################# Function Parameters and Arguments #################\n"
   ]
  },
  {
   "cell_type": "code",
   "execution_count": null,
   "id": "4c827a91-4015-4c02-9209-1066205aabba",
   "metadata": {},
   "outputs": [],
   "source": [
    "# Explain the concepts of formal parameters and actual arguments in Python functions.\n",
    "Formal parameters are placeholders or variables defined in the function definition that represent the \n",
    "data the function expects to receive when it is called. \n",
    "They are used to specify the input requirements of the function. \n",
    "Formal parameters are specified inside the parentheses following the function name in the function \n",
    "definition.\n",
    "Example:\n",
    "    # name is a formal parameter of the greet function.\n",
    "    def greet(name):\n",
    "    print(\"Hello,\", name)"
   ]
  },
  {
   "cell_type": "code",
   "execution_count": 31,
   "id": "e5dd646e-4a0d-4b93-ba6b-051d23df982b",
   "metadata": {},
   "outputs": [
    {
     "name": "stdout",
     "output_type": "stream",
     "text": [
      "Hello pwskills\n",
      "Hello anu\n"
     ]
    }
   ],
   "source": [
    "# Write a Python program that defines a function with default argument values.\n",
    "# functions is defined with a default arguement\n",
    "def default_arg(name=\"pwskills\"):\n",
    "    print(\"Hello\",name)\n",
    "# Call the function without providing any argument\n",
    "default_arg()\n",
    "\n",
    "# Call the function with a custom name and it will overwrite the default arg defined in function\n",
    "default_arg(name='anu')"
   ]
  },
  {
   "cell_type": "code",
   "execution_count": null,
   "id": "80bedc45-2b27-46f9-a9b3-345f0a9db5b3",
   "metadata": {},
   "outputs": [],
   "source": [
    "# How do you use keyword arguments in Python function calls? Provide an example.\n",
    "keyword arguments allow you to specify arguments by their parameter names when calling a function. \n",
    "This provides clarity and flexibility in function calls, especially when dealing with functions that \n",
    "have multiple parameters or when you want to skip certain arguments by providing values only for specific \n",
    "parameters.\n",
    "def greet(name, message):\n",
    "    print(message,name)\n",
    "\n",
    "# Function call using keyword arguments\n",
    "greet(name=\"pwskills\", message=\"Good morning\")"
   ]
  },
  {
   "cell_type": "code",
   "execution_count": 32,
   "id": "2ff9d260-ee31-4442-9f68-606b1540d48d",
   "metadata": {},
   "outputs": [
    {
     "data": {
      "text/plain": [
       "13"
      ]
     },
     "execution_count": 32,
     "metadata": {},
     "output_type": "execute_result"
    }
   ],
   "source": [
    "# Create a Python function that accepts a variable number of arguments and calculates their sum.\n",
    "def sum_values(*args):\n",
    "    total = 0\n",
    "    for i in args:\n",
    "        total += i\n",
    "    return total\n",
    "sum_values(2,5,6)"
   ]
  },
  {
   "cell_type": "code",
   "execution_count": null,
   "id": "4048b1a3-e672-483a-9ae5-82f339999f3c",
   "metadata": {},
   "outputs": [],
   "source": [
    "# What is the purpose of the `*args` and `**kwargs` syntax in function parameter lists?\n",
    "*args\n",
    "The *args syntax allows you to pass a variable number of positional arguments to a function.\n",
    "in the function definition, *args collects all the positional arguments passed to the function into \n",
    "a tuple.\n",
    "\n",
    "**kwargs\n",
    "The **kwargs syntax allows you to pass a variable number of keyword arguments (key-value pairs) to a \n",
    "function.\n",
    "In the function definition, **kwargs collects all the keyword arguments passed to the function into a \n",
    "dictionary.\n",
    "\n",
    "Example:\n",
    "def example_function(*args, **kwargs):\n",
    "    print(\"Positional arguments (*args):\", args)\n",
    "    print(\"Keyword arguments (**kwargs):\", kwargs)\n",
    "\n",
    "example_function(1, 2, 3, name=\"pwskills\", age=30)"
   ]
  },
  {
   "cell_type": "code",
   "execution_count": null,
   "id": "109d3d8b-e8c4-4097-96ee-b7ca826461ea",
   "metadata": {},
   "outputs": [],
   "source": [
    "\n",
    "############## Return Values and Scoping ##################\n"
   ]
  },
  {
   "cell_type": "code",
   "execution_count": null,
   "id": "67752c27-128a-444b-be14-71c7554a805a",
   "metadata": {},
   "outputs": [],
   "source": [
    "# Describe the role of the `return` statement in Python functions and provide examples.\n",
    "The return statement is used to exit a function and optionally return a value or result back to the caller.\n",
    "It allows functions to compute a value or perform a task and then pass that result back to the part of the \n",
    "program that called the function. The return statement can appear anywhere within a function, and when \n",
    "executed, it immediately ends the function's execution and returns control to the caller.\n",
    "Example:\n",
    "    def is_even(number):\n",
    "    # Check if a number is even and return True or False\n",
    "    if number % 2 == 0:\n",
    "        return True\n",
    "    else:\n",
    "        return False\n",
    "    \n",
    "def greet(name):\n",
    "    # Print a greeting message and return None\n",
    "    print(\"Hello,\", name)\n",
    "\n",
    "result = greet(\"Alice\") # print cannot store a value to variable\n",
    "print(\"Result of greet:\", result)  # Output: Result of greet: None"
   ]
  },
  {
   "cell_type": "code",
   "execution_count": null,
   "id": "a88c5786-99f7-4b35-bd89-cd89b7800942",
   "metadata": {},
   "outputs": [],
   "source": [
    "# Explain the concept of variable scope in Python, including local and global variables.\n",
    "Local variable\n",
    "Local variables are defined within a function and are only accessible within the function's body.\n",
    "def my_function():\n",
    "    x = 10  # Local variable\n",
    "    print(\"Inside the function:\", x)\n",
    "\n",
    "my_function()\n",
    "print(x)  # This would raise a NameError because x is not defined outside the function\n",
    "\n",
    "Global variable\n",
    "Global variables are defined outside of any function and can be accessed and modified from \n",
    "anywhere in the program.\n",
    "y = 20  # Global variable\n",
    "\n",
    "def my_function():\n",
    "    print(\"Inside the function:\", y) # can be accessed inside a function\n",
    "\n",
    "my_function()\n",
    "print(\"Outside the function:\", y) # can be accessed outside a function"
   ]
  },
  {
   "cell_type": "code",
   "execution_count": 33,
   "id": "c84cfb77-b431-4b29-bd31-ab96f4d1ae68",
   "metadata": {},
   "outputs": [
    {
     "name": "stdout",
     "output_type": "stream",
     "text": [
      "Greater than threshold\n",
      "Global variable 10\n"
     ]
    }
   ],
   "source": [
    "# Write a Python program that demonstrates the use of global variables within functions.\n",
    "global_variable=10\n",
    "def check():\n",
    "    # global variable accessible inside a function\n",
    "    if global_variable<10:\n",
    "        print(\"Smaller than threshold\")\n",
    "    else:\n",
    "        print(\"Greater than threshold\")\n",
    "check()\n",
    "# global varibale accessible outside variable\n",
    "print(\"Global variable\", global_variable)"
   ]
  },
  {
   "cell_type": "code",
   "execution_count": 34,
   "id": "210dbc19-eb57-445c-a36a-b594f21d6f54",
   "metadata": {},
   "outputs": [
    {
     "data": {
      "text/plain": [
       "24"
      ]
     },
     "execution_count": 34,
     "metadata": {},
     "output_type": "execute_result"
    }
   ],
   "source": [
    "# Create a Python function that calculates the factorial of a number and returns it.\n",
    "def factorial(n):\n",
    "    if n < 0:\n",
    "        print(\"Please enter positive number\")\n",
    "    elif n == 0:\n",
    "        return 1\n",
    "    else:\n",
    "        result = 1\n",
    "        for i in range(1, n + 1):\n",
    "            result *= i\n",
    "        return result\n",
    "factorial(4)"
   ]
  },
  {
   "cell_type": "code",
   "execution_count": null,
   "id": "728b4113-2cbb-47b5-9e3a-37789cef78ee",
   "metadata": {},
   "outputs": [],
   "source": [
    "# How can you access variables defined outside a function from within the function?\n",
    "If we want to modify the value of a global variable within a function, we need to use the global keyword \n",
    "to explicitly declare the variable as global.\n",
    "x = 10  # Global variable\n",
    "\n",
    "def modify_global():\n",
    "    global x  # Declare x as global explicitly\n",
    "    x = 20   # Modify the global variable\n",
    "\n",
    "modify_global()\n",
    "print(x)  # Output: 20 (the value of the global variable x has been modified and is overwritten)"
   ]
  },
  {
   "cell_type": "code",
   "execution_count": null,
   "id": "553c4743-0d69-4dab-82b3-bdd971450cd5",
   "metadata": {},
   "outputs": [],
   "source": [
    "\n",
    "######## Lambda Functions and Higher-Order Functions #########\n"
   ]
  },
  {
   "cell_type": "code",
   "execution_count": null,
   "id": "2e46f6cd-8bfa-4e14-bc19-2d135c6355c1",
   "metadata": {},
   "outputs": [],
   "source": [
    "# What are lambda functions in Python, and when are they typically used?\n",
    "A lambda function is a small, anonymous function defined using the lambda keyword.\n",
    "Lambda functions are typically used when you need a simple function for a short period of time and \n",
    "don't want to define a separate named function.\n",
    "Syntax:\n",
    "    lambda arguments: expression"
   ]
  },
  {
   "cell_type": "code",
   "execution_count": 37,
   "id": "a087699a-92cb-412e-a522-8ac12d4596fa",
   "metadata": {},
   "outputs": [
    {
     "name": "stdout",
     "output_type": "stream",
     "text": [
      "[(3, 2, 4, 5), (4, 3), (1, 5), (2, 8)]\n"
     ]
    }
   ],
   "source": [
    "# Write a Python program that uses lambda functions to sort a list of tuples based on the second element.\n",
    "data = [(1, 5), (3, 2,4,5), (2, 8), (4, 3)]\n",
    "sorted_data = sorted(data, key=lambda x: x[1])\n",
    "print(sorted_data)"
   ]
  },
  {
   "cell_type": "code",
   "execution_count": null,
   "id": "ed4c9a4c-cf2e-4511-934b-7efb8dd577f8",
   "metadata": {},
   "outputs": [],
   "source": [
    "# Explain the concept of higher-order functions in Python, and provide an example.\n",
    "Higher-order functions are functions that can take other functions as arguments or return functions \n",
    "as results."
   ]
  },
  {
   "cell_type": "code",
   "execution_count": 39,
   "id": "8764238d-2cb5-4b62-8eb1-96896f720fac",
   "metadata": {},
   "outputs": [
    {
     "name": "stdout",
     "output_type": "stream",
     "text": [
      "Squared numbers: [1, 4, 9, 16, 25]\n"
     ]
    }
   ],
   "source": [
    "# Create a Python function that takes a list of numbers and a function as arguments, applying the function \n",
    "# to each element in the list.\n",
    "def apply_function_to_list(lst, func):\n",
    "    #Apply a function to each element of a list\n",
    "    result = []\n",
    "    for item in lst:\n",
    "        result.append(func(item))\n",
    "    return result\n",
    "\n",
    "# Define a function to square a number\n",
    "def square(x):\n",
    "    return x ** 2\n",
    "\n",
    "# Define a list of numbers\n",
    "numbers = [1, 2, 3, 4, 5]\n",
    "\n",
    "# Apply the square function to each element of the list using the higher-order function\n",
    "squared_numbers = apply_function_to_list(numbers, square)\n",
    "print(\"Squared numbers:\", squared_numbers)"
   ]
  },
  {
   "cell_type": "code",
   "execution_count": null,
   "id": "d0fc338f-8715-4654-8c33-e18920ff64ef",
   "metadata": {},
   "outputs": [],
   "source": [
    "\n",
    "############## Built-in Functions ##############\n"
   ]
  },
  {
   "cell_type": "code",
   "execution_count": null,
   "id": "a12fad43-13bf-4473-ac64-38d48f027319",
   "metadata": {},
   "outputs": [],
   "source": [
    "# Describe the role of built-in functions like `len()`, `max()`, and `min()` in Python.\n",
    "len():\n",
    "The len() function is used to determine the length or size of an object, such as a sequence \n",
    "(e.g., list, tuple, string) or a collection (e.g., dictionary, set).\n",
    "Example:\n",
    "my_list = [1, 2, 3, 4, 5]\n",
    "length = len(my_list)\n",
    "print(\"Length of the list:\", length)  # Output: Length of the list: 5\n",
    "\n",
    "max():\n",
    "The max() function is used to find the maximum value among the elements of an iterable object, such as \n",
    "a list or tuple.\n",
    "Example:\n",
    "my_list = [3, 1, 5, 2, 4]\n",
    "max_value = max(my_list)\n",
    "print(\"Maximum value:\", max_value)  # Output: Maximum value: 5\n",
    "\n",
    "min():\n",
    "The min() function is used to find the minimum value among the elements of an iterable object, such as \n",
    "a list or tuple.\n",
    "my_tuple = (7, 3, 9, 1, 5)\n",
    "min_value = min(my_tuple)\n",
    "print(\"Minimum value:\", min_value)  # Output: Minimum value: 1"
   ]
  },
  {
   "cell_type": "code",
   "execution_count": 40,
   "id": "fd726d52-32eb-49f4-9023-87b9c4b015ad",
   "metadata": {},
   "outputs": [
    {
     "data": {
      "text/plain": [
       "[3, 6, 36, 80, 47]"
      ]
     },
     "execution_count": 40,
     "metadata": {},
     "output_type": "execute_result"
    }
   ],
   "source": [
    "# Write a Python program that uses the `map()` function to apply a function to each element of a list.\n",
    "# Map function to add 2 to each element in the list\n",
    "lst=[1,4,34,78,45]\n",
    "list(map(lambda a:a+2,lst))"
   ]
  },
  {
   "cell_type": "code",
   "execution_count": null,
   "id": "1e76a831-e9b0-4f09-b33d-a84f0afe6e06",
   "metadata": {},
   "outputs": [],
   "source": [
    "# How does the `filter()` function work in Python, and when would you use it?\n",
    "The filter() function in Python is used to filter elements from an iterable (such as a list, tuple, or \n",
    "any other iterable) based on a specified condition. It applies a given function to each element of the \n",
    "iterable and returns a new iterable containing only the elements for which the function returns True.\n",
    "syntax:\n",
    "    filter(function, iterable)"
   ]
  },
  {
   "cell_type": "code",
   "execution_count": 41,
   "id": "7dec9c84-3b61-4748-b893-66c63082305d",
   "metadata": {},
   "outputs": [
    {
     "data": {
      "text/plain": [
       "48"
      ]
     },
     "execution_count": 41,
     "metadata": {},
     "output_type": "execute_result"
    }
   ],
   "source": [
    "# Create a Python program that uses the `reduce()` function to find the product of all elements in a list.\n",
    "from functools import reduce\n",
    "lst=[1,4,6,2]\n",
    "reduce(lambda a,b:a*b,lst)"
   ]
  },
  {
   "cell_type": "code",
   "execution_count": null,
   "id": "be8ae7fe-51de-49df-8805-07dea90a4942",
   "metadata": {},
   "outputs": [],
   "source": [
    "\n",
    "############# Function Documentation and Best Practices ###############\n"
   ]
  },
  {
   "cell_type": "code",
   "execution_count": null,
   "id": "74465e1d-cbac-4847-9b84-fb8c95542d24",
   "metadata": {},
   "outputs": [],
   "source": [
    "# Explain the purpose of docstrings in Python functions and how to write them.\n",
    "Python documentation strings (or docstrings) provide a convenient way of associating documentation \n",
    "with Python modules, functions, classes, and methods. It’s specified in source code that is used, like \n",
    "a comment, to document a specific segment of code.\n",
    "Triple-Quoted Strings\n",
    "This is the most common docstring format in Python. It involves using triple quotes (either single or \n",
    ") to enclose the documentation text. Triple-quoted strings can span multiple lines and are often placed \n",
    "immediately below the function, class, or module definition.\n",
    "\n",
    "def my_function():\n",
    "    '''Demonstrates triple double quotes\n",
    "    docstrings and does nothing really.'''\n",
    "  \n",
    "    return None\n",
    " \n",
    "print(\"Using __doc__:\")\n",
    "print(my_function.__doc__)\n",
    " \n",
    "print(\"Using help:\")\n",
    "help(my_function)\n"
   ]
  },
  {
   "cell_type": "code",
   "execution_count": null,
   "id": "7c8f8687-391e-4b7c-8ce1-e3dfe46c6b9a",
   "metadata": {},
   "outputs": [],
   "source": [
    "# Describe some best practices for naming functions and variables in Python, including naming \n",
    "# conventions and guidelines.\n",
    "Naming conventions in Python refer to a set of rules and guidelines for naming variables, functions, \n",
    "classes, and other entities in your code.\n",
    "\n",
    "Variables naming convention:\n",
    "A variable name in Python should be descriptive and concise, making it easy for anyone reading your code \n",
    "to understand what the variable is used for. It should start with a lowercase letter, and it can include \n",
    "letters, numbers, and underscores. However, it cannot start with a number.\n",
    "\n",
    "Functions naming convention:\n",
    "Like variable names, function names in Python should be descriptive and concise. The function name should \n",
    "clearly indicate what the function does. Python's naming conventions for functions are similar to its \n",
    "conventions for variables."
   ]
  }
 ],
 "metadata": {
  "kernelspec": {
   "display_name": "Python 3 (ipykernel)",
   "language": "python",
   "name": "python3"
  },
  "language_info": {
   "codemirror_mode": {
    "name": "ipython",
    "version": 3
   },
   "file_extension": ".py",
   "mimetype": "text/x-python",
   "name": "python",
   "nbconvert_exporter": "python",
   "pygments_lexer": "ipython3",
   "version": "3.10.8"
  }
 },
 "nbformat": 4,
 "nbformat_minor": 5
}
