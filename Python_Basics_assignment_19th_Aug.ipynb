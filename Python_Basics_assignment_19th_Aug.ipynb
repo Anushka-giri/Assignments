{
 "cells": [
  {
   "cell_type": "code",
   "execution_count": 17,
   "id": "fa650e0a-87b2-44ab-83d6-6e07f953d060",
   "metadata": {},
   "outputs": [
    {
     "name": "stdout",
     "output_type": "stream",
     "text": [
      "Before swapping first variable is  10\n",
      "Before swapping second variable is  5\n",
      "After swapping first variable is  5\n",
      "After swapping second variable is  10\n"
     ]
    }
   ],
   "source": [
    "##1st question\n",
    "x=10\n",
    "y=5\n",
    "print(\"Before swapping first variable is \", x)\n",
    "print(\"Before swapping second variable is \",y)\n",
    "x=x+y\n",
    "y=x-y\n",
    "x=x-y\n",
    "print(\"After swapping first variable is \",x)\n",
    "print(\"After swapping second variable is \",y)"
   ]
  },
  {
   "cell_type": "code",
   "execution_count": 15,
   "id": "c99f498f-8fcc-42b9-8fde-37a9b9fed47e",
   "metadata": {},
   "outputs": [
    {
     "name": "stdin",
     "output_type": "stream",
     "text": [
      " 45\n",
      " 4\n"
     ]
    },
    {
     "name": "stdout",
     "output_type": "stream",
     "text": [
      "Area of rectangle is  180\n"
     ]
    }
   ],
   "source": [
    "##2nd question\n",
    "length=int(input())\n",
    "width=int(input())\n",
    "Area=length*width;\n",
    "print(\"Area of rectangle is \",Area)"
   ]
  },
  {
   "cell_type": "code",
   "execution_count": 10,
   "id": "d05c5417-e819-4255-87eb-b6ad7936e685",
   "metadata": {},
   "outputs": [
    {
     "name": "stdin",
     "output_type": "stream",
     "text": [
      " 40\n"
     ]
    },
    {
     "name": "stdout",
     "output_type": "stream",
     "text": [
      "Temperature in fahrenheit is  104.0\n"
     ]
    }
   ],
   "source": [
    "##3rd question\n",
    "celcius=float(input())\n",
    "fahrenheit=celcius*(9/5)+32\n",
    "print(\"Temperature in fahrenheit is \",fahrenheit)"
   ]
  },
  {
   "cell_type": "code",
   "execution_count": 13,
   "id": "203ef3b9-b19f-41fe-9dff-3167ada1cf23",
   "metadata": {},
   "outputs": [
    {
     "name": "stdin",
     "output_type": "stream",
     "text": [
      " pwskills\n"
     ]
    },
    {
     "name": "stdout",
     "output_type": "stream",
     "text": [
      "Length of the string is  8\n"
     ]
    }
   ],
   "source": [
    "##string 1st question\n",
    "str=input()\n",
    "print(\"Length of the string is \",len(str))"
   ]
  },
  {
   "cell_type": "code",
   "execution_count": 19,
   "id": "fee130ee-b288-447c-b183-8902e60e36e6",
   "metadata": {},
   "outputs": [
    {
     "name": "stdin",
     "output_type": "stream",
     "text": [
      " aeiou\n"
     ]
    },
    {
     "name": "stdout",
     "output_type": "stream",
     "text": [
      "5\n"
     ]
    }
   ],
   "source": [
    "##string 2nd question\n",
    "string = input()\n",
    "vowels = \"aeiouAEIOU\"\n",
    " \n",
    "count = sum(string.count(vowel) for vowel in vowels)\n",
    "print(count)"
   ]
  },
  {
   "cell_type": "code",
   "execution_count": 24,
   "id": "59dbd2c1-76b7-44ac-8090-b81c52a8c56d",
   "metadata": {},
   "outputs": [
    {
     "name": "stdin",
     "output_type": "stream",
     "text": [
      " pwskills\n"
     ]
    },
    {
     "name": "stdout",
     "output_type": "stream",
     "text": [
      "Input string is pwskills\n",
      "Reversed string is sllikswp\n"
     ]
    }
   ],
   "source": [
    "##string 3rd question\n",
    "str1=input()\n",
    "print(\"Input string is\",str1)\n",
    "rev=str1[::-1]\n",
    "print(\"Reversed string is\",rev)"
   ]
  },
  {
   "cell_type": "code",
   "execution_count": 33,
   "id": "4b1ff871-4baa-450d-b7f8-0ce78e4d5b5d",
   "metadata": {},
   "outputs": [
    {
     "name": "stdin",
     "output_type": "stream",
     "text": [
      " madam\n"
     ]
    },
    {
     "name": "stdout",
     "output_type": "stream",
     "text": [
      "Input string is madam\n",
      "Reversed string is madam\n",
      "The string is a palindrome\n"
     ]
    }
   ],
   "source": [
    "##string 4th question\n",
    "str_1=input()\n",
    "print(\"Input string is\",str_1)\n",
    "rev_1=str_1[::-1]\n",
    "print(\"Reversed string is\",rev_1)\n",
    "if(str_1==rev_1):\n",
    "    print(\"The string is a palindrome\")\n",
    "else:\n",
    "    print(\"The string is not a palindrome\")"
   ]
  },
  {
   "cell_type": "code",
   "execution_count": 36,
   "id": "1a462f4c-a942-42da-b99e-955e819b48f3",
   "metadata": {},
   "outputs": [
    {
     "name": "stdin",
     "output_type": "stream",
     "text": [
      "    hey  u\n"
     ]
    },
    {
     "name": "stdout",
     "output_type": "stream",
     "text": [
      "Before removing space    hey  u\n",
      "After removing spaces heyu\n"
     ]
    }
   ],
   "source": [
    "##string 5th question\n",
    "a=input()\n",
    "print(\"Before removing space\",a)\n",
    "b=a.replace(\" \",\"\")\n",
    "print(\"After removing spaces\",b)"
   ]
  },
  {
   "cell_type": "code",
   "execution_count": null,
   "id": "0efe3a85-274a-419f-a4fd-7b17ec89e926",
   "metadata": {},
   "outputs": [],
   "source": []
  }
 ],
 "metadata": {
  "kernelspec": {
   "display_name": "Python 3 (ipykernel)",
   "language": "python",
   "name": "python3"
  },
  "language_info": {
   "codemirror_mode": {
    "name": "ipython",
    "version": 3
   },
   "file_extension": ".py",
   "mimetype": "text/x-python",
   "name": "python",
   "nbconvert_exporter": "python",
   "pygments_lexer": "ipython3",
   "version": "3.10.8"
  }
 },
 "nbformat": 4,
 "nbformat_minor": 5
}
